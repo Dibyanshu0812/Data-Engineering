{
 "cells": [
  {
   "cell_type": "code",
   "execution_count": 0,
   "metadata": {
    "application/vnd.databricks.v1+cell": {
     "cellMetadata": {
      "byteLimit": 2048000,
      "rowLimit": 10000
     },
     "inputWidgets": {},
     "nuid": "7331bfa2-8b93-48ea-b25f-d16a29522337",
     "showTitle": false,
     "tableResultSettingsMap": {},
     "title": ""
    }
   },
   "outputs": [],
   "source": [
    "dbutils.widgets.text(\"table_name\", \"data_engineering_practice.app_data.employees_raw\", \"Table Name\")\n"
   ]
  },
  {
   "cell_type": "code",
   "execution_count": 0,
   "metadata": {
    "application/vnd.databricks.v1+cell": {
     "cellMetadata": {
      "byteLimit": 2048000,
      "implicitDf": true,
      "rowLimit": 10000
     },
     "inputWidgets": {},
     "nuid": "05580662-48d8-4187-854a-5c40623666a1",
     "showTitle": false,
     "tableResultSettingsMap": {},
     "title": ""
    }
   },
   "outputs": [],
   "source": [
    "%sql\n",
    "CREATE TABLE IF NOT EXISTS ${table_name} (\n",
    "    emp_id INT,\n",
    "    first_name STRING,\n",
    "    last_name STRING,\n",
    "    department STRING,\n",
    "    salary INT,\n",
    "    email STRING\n",
    ");\n"
   ]
  },
  {
   "cell_type": "code",
   "execution_count": 0,
   "metadata": {
    "application/vnd.databricks.v1+cell": {
     "cellMetadata": {
      "byteLimit": 2048000,
      "implicitDf": true,
      "rowLimit": 10000
     },
     "collapsed": true,
     "inputWidgets": {},
     "nuid": "b22d0493-f37a-4865-9db8-f83f5aaa916c",
     "showTitle": false,
     "tableResultSettingsMap": {},
     "title": ""
    }
   },
   "outputs": [],
   "source": [
    "%sql\n",
    "-- Insert Batch 1\n",
    "INSERT INTO data_engineering_practice.app_data.employees_raw VALUES\n",
    "(1, 'John', 'Doe', 'IT', 75000, 'john.doe@example.com'),\n",
    "(2, 'Jane', 'Smith', 'Finance', 62000, 'jane.smith@example.com'),\n",
    "(3, 'Bob', 'Johnson', 'HR', 58000, 'bob.johnson@example.com'),\n",
    "(4, 'Alice', 'Williams', 'Marketing', 67000, 'alice.williams@example.com'),\n",
    "(5, 'Mark', 'Lee', 'IT', NULL, 'mark.lee@example.com'),\n",
    "(6, 'Nina', 'Brown', 'Sales', 55000, 'nina.brown@example.com'),\n",
    "(7, 'Eva', 'Taylor', 'Finance', 60000, 'eva.taylor@example.com'),\n",
    "(8, 'Chris', 'Clark', 'IT', 72000, 'chris.clark@example.com'),\n",
    "(9, 'Sophia', 'Adams', 'HR', 59000, 'sophia.adams@example.com'),\n",
    "(10, 'Tom', 'Evans', 'IT', 64000, 'tom.evans@example.com'),\n",
    "(11, 'Rachel', 'Green', 'Marketing', 68000, 'rachel.green@example.com'),\n",
    "(12, 'Monica', 'Geller', 'HR', 58000, 'monica.geller@example.com'),\n",
    "(13, 'Ross', 'Geller', 'Finance', 63000, 'ross.geller@example.com'),\n",
    "(14, 'Chandler', 'Bing', 'IT', NULL, 'chandler.bing@example.com'),\n",
    "(15, 'Joey', 'Tribbiani', 'Sales', 54000, 'joey.tribbiani@example.com'),\n",
    "(16, 'Phoebe', 'Buffay', 'HR', 61000, 'phoebe.buffay@example.com'),\n",
    "(17, 'Mike', 'Hannigan', 'Marketing', 66000, 'mike.hannigan@example.com'),\n",
    "(18, 'Janice', 'Litman', 'Sales', 50000, 'janice.litman@example.com'),\n",
    "(19, 'Emily', 'Waltham', 'Finance', 62000, 'emily.waltham@example.com'),\n",
    "(20, 'John', 'Doe', 'IT', 75000, 'john.doe@example.com'); -- duplicate email\n",
    "\n",
    "-- Insert Batch 2\n",
    "INSERT INTO data_engineering_practice.app_data.employees_raw VALUES\n",
    "(21, 'Daniel', 'Smith', 'IT', 68000, 'daniel.smith@example.com'),\n",
    "(22, 'Laura', 'Hill', 'HR', 57000, 'laura.hill@example.com'),\n",
    "(23, 'Henry', 'Ford', 'Marketing', 69000, 'henry.ford@example.com'),\n",
    "(24, 'Diana', 'Prince', 'Finance', 61000, 'diana.prince@example.com'),\n",
    "(25, 'Clark', 'Kent', 'IT', NULL, 'clark.kent@example.com'),\n",
    "(26, 'Bruce', 'Wayne', 'Sales', 74000, 'bruce.wayne@example.com'),\n",
    "(27, 'Peter', 'Parker', 'Marketing', 56000, 'peter.parker@example.com'),\n",
    "(28, 'Tony', 'Stark', 'IT', 85000, 'tony.stark@example.com'),\n",
    "(29, 'Steve', 'Rogers', 'Finance', 63000, 'steve.rogers@example.com'),\n",
    "(30, 'Natasha', 'Romanoff', 'HR', 60000, 'natasha.romanoff@example.com'),\n",
    "(31, 'Wanda', 'Maximoff', 'Sales', 62000, 'wanda.maximoff@example.com'),\n",
    "(32, 'Sam', 'Wilson', 'Finance', 59000, 'sam.wilson@example.com'),\n",
    "(33, 'Bucky', 'Barnes', 'IT', 70000, 'bucky.barnes@example.com'),\n",
    "(34, 'Scott', 'Lang', 'Sales', 58000, 'scott.lang@example.com'),\n",
    "(35, 'Hope', 'Van Dyne', 'Marketing', 66000, 'hope.dyne@example.com'),\n",
    "(36, 'Stephen', 'Strange', 'IT', 77000, 'stephen.strange@example.com'),\n",
    "(37, 'Nick', 'Fury', 'Finance', 72000, 'nick.fury@example.com'),\n",
    "(38, 'Phil', 'Coulson', 'HR', 57000, 'phil.coulson@example.com'),\n",
    "(39, 'Carol', 'Danvers', 'IT', 83000, 'carol.danvers@example.com'),\n",
    "(40, 'Maria', 'Hill', 'Marketing', 64000, 'maria.hill@example.com');\n",
    "\n",
    "\n",
    "-- Insert Batch 3\n",
    "INSERT INTO data_engineering_practice.app_data.employees_raw VALUES\n",
    "(41, 'Pepper', 'Potts', 'Sales', 67000, 'pepper.potts@example.com'),\n",
    "(42, 'Happy', 'Hogan', 'HR', 61000, 'happy.hogan@example.com'),\n",
    "(43, 'Jarvis', 'AI', 'IT', 88000, 'jarvis.ai@example.com'),\n",
    "(44, 'Shuri', 'Wakanda', 'Finance', 69000, 'shuri.wakanda@example.com'),\n",
    "(45, 'TChalla', 'Panther', 'Marketing', NULL, 'tchalla.panther@example.com'),\n",
    "(46, 'Rocket', 'Raccoon', 'IT', 62000, 'rocket.raccoon@example.com'),\n",
    "(47, 'Groot', 'Tree', 'Sales', 61000, 'groot.tree@example.com'),\n",
    "(48, 'Drax', 'Destroyer', 'HR', 56000, 'drax.destroyer@example.com'),\n",
    "(49, 'Gamora', 'Zen', 'Finance', 65000, 'gamora.zen@example.com'),\n",
    "(50, 'Nebula', 'Cyber', 'Marketing', 64000, 'nebula.cyber@example.com');\n",
    "\n",
    "/*\n",
    "-- Data to insert on 1st batch\n",
    "INSERT INTO ${table_name} VALUES\n",
    "(51, 'Thanos', 'Titan', 'Sales', 71000, 'thanos.titan@example.com'),\n",
    "(52, 'Loki', 'Odinson', 'HR', 67000, 'loki.odinson@example.com'),\n",
    "(53, 'Odin', 'Allfather', 'Finance', 73000, 'odin.allfather@example.com'),\n",
    "(54, 'Frigga', 'Queen', 'Marketing', 68000, 'frigga.queen@example.com'),\n",
    "(55, 'Heimdall', 'Gatekeeper', 'IT', 72000, 'heimdall.gate@example.com'),\n",
    "(56, 'Korg', 'Rock', 'Sales', 57000, 'korg.rock@example.com'),\n",
    "(57, 'Miek', 'Bug', 'HR', 56000, 'miek.bug@example.com'),\n",
    "(58, 'Jane', 'Foster', 'Finance', 69000, 'jane.foster@example.com'),\n",
    "(59, 'Darcy', 'Lewis', 'Marketing', 63000, 'darcy.lewis@example.com'),\n",
    "(60, 'Erik', 'Selvig', 'IT', 64000, 'erik.selvig@example.com');\n",
    "\n",
    "-- Data to insert on 2nd batch\n",
    "\n",
    "INSERT INTO ${table_name} VALUES\n",
    "(61, 'Nick', 'Cage', 'Finance', 66000, 'nick.cage@example.com'),\n",
    "(62, 'Bruce', 'Banner', 'IT', 78000, 'bruce.banner@example.com'),\n",
    "(63, 'Betty', 'Ross', 'HR', NULL, 'betty.ross@example.com'),\n",
    "(64, 'Matt', 'Murdock', 'Sales', 61000, 'matt.murdock@example.com'),\n",
    "(65, 'Jessica', 'Jones', 'Marketing', 59000, 'jessica.jones@example.com'),\n",
    "(66, 'Luke', 'Cage', 'Finance', 64000, 'luke.cage@example.com'),\n",
    "(67, 'Danny', 'Rand', 'IT', 67000, 'danny.rand@example.com'),\n",
    "(68, 'Colleen', 'Wing', 'Sales', 60000, 'colleen.wing@example.com'),\n",
    "(69, 'Karen', 'Page', 'HR', 62000, 'karen.page@example.com'),\n",
    "(70, 'Foggy', 'Nelson', 'Finance', 63000, 'foggy.nelson@example.com'),\n",
    "(71, 'Elecktra', 'Natchios', 'Marketing', 66000, 'elecktra.natchios@example.com'),\n",
    "(72, 'Stick', 'Sensei', 'Sales', 58000, 'stick.sensei@example.com'),\n",
    "(73, 'Wilson', 'Fisk', 'Finance', 70000, 'wilson.fisk@example.com'),\n",
    "(74, 'Frank', 'Castle', 'IT', 76000, 'frank.castle@example.com'),\n",
    "(75, 'Karen', 'Page', 'HR', 62000, 'karen.page@example.com'), -- duplicate email\n",
    "(76, 'Clint', 'Barton', 'Sales', 69000, 'clint.barton@example.com'),\n",
    "(77, 'Kate', 'Bishop', 'Marketing', 61000, 'kate.bishop@example.com'),\n",
    "(78, 'Yelena', 'Belova', 'Finance', NULL, 'yelena.belova@example.com'),\n",
    "(79, 'Alexei', 'Shostakov', 'IT', 70000, 'alexei.shostakov@example.com'),\n",
    "(80, 'Melina', 'Vostokoff', 'Marketing', 62000, 'melina.vostokoff@example.com');\n",
    "\n",
    "--Data to insert on 3rd batch\n",
    "\n",
    "INSERT INTO ${table_name} VALUES\n",
    "(81, 'Red', 'Guardian', 'Sales', 61000, 'red.guardian@example.com'),\n",
    "(82, 'Valentina', 'Allegra', 'Finance', 68000, 'valentina.allegra@example.com'),\n",
    "(83, 'Shang', 'Chi', 'IT', 75000, 'shang.chi@example.com'),\n",
    "(84, 'Wenwu', 'Xu', 'Marketing', 67000, 'wenwu.xu@example.com'),\n",
    "(85, 'Katy', 'Chen', 'Sales', 58000, 'katy.chen@example.com'),\n",
    "(86, 'Trevor', 'Slattery', 'HR', 55000, 'trevor.slattery@example.com'),\n",
    "(87, 'Morris', 'Myth', 'Finance', 60000, 'morris.myth@example.com'),\n",
    "(88, 'Namor', 'Submariner', 'Marketing', 69000, 'namor.sub@example.com'),\n",
    "(89, 'Okoye', 'Wakanda', 'IT', 74000, 'okoye.wakanda@example.com'),\n",
    "(90, 'Ayo', 'Wakanda', 'Sales', 60000, 'ayo.wakanda@example.com'),\n",
    "(91, 'Riri', 'Williams', 'Finance', 61000, 'riri.williams@example.com'),\n",
    "(92, 'Kamala', 'Khan', 'Marketing', 58000, 'kamala.khan@example.com'),\n",
    "(93, 'Bruno', 'Carelli', 'Sales', 57000, 'bruno.carelli@example.com'),\n",
    "(94, 'Zoe', 'Zimmer', 'Finance', 63000, 'zoe.zimmer@example.com'),\n",
    "(95, 'Nakia', 'Wakanda', 'HR', 64000, 'nakia.wakanda@example.com'),\n",
    "(96, 'Ramonda', 'Wakanda', 'HR', 66000, 'ramonda.wakanda@example.com'),\n",
    "(97, 'Everett', 'Ross', 'Finance', 62000, 'everett.ross@example.com'),\n",
    "(98, 'Ulysses', 'Klaue', 'Sales', 60000, 'ulysses.klaue@example.com'),\n",
    "(99, 'Zemo', 'Baron', 'Finance', 65000, 'zemo.baron@example.com'),\n",
    "(100, 'Agatha', 'Harkness', 'HR', 62000, 'agatha.harkness@example.com');*/\n"
   ]
  },
  {
   "cell_type": "code",
   "execution_count": 0,
   "metadata": {
    "application/vnd.databricks.v1+cell": {
     "cellMetadata": {},
     "inputWidgets": {},
     "nuid": "17f78240-74e3-4b72-936c-924dd9b985ef",
     "showTitle": false,
     "tableResultSettingsMap": {},
     "title": ""
    }
   },
   "outputs": [],
   "source": [
    "print(\"Hello\")"
   ]
  }
 ],
 "metadata": {
  "application/vnd.databricks.v1+notebook": {
   "computePreferences": null,
   "dashboards": [],
   "environmentMetadata": {
    "base_environment": "",
    "environment_version": "2"
   },
   "inputWidgetPreferences": null,
   "language": "python",
   "notebookMetadata": {
    "mostRecentlyExecutedCommandWithImplicitDF": {
     "commandId": 6292409429980418,
     "dataframes": [
      "_sqldf"
     ]
    },
    "pythonIndentUnit": 4
   },
   "notebookName": "100_Employee_Injest",
   "widgets": {
    "table_name": {
     "currentValue": "data_engineering_practice.app_data.employees_raw",
     "nuid": "6d5aa4f2-860e-44d4-9c0d-ba21a571acf5",
     "typedWidgetInfo": {
      "autoCreated": false,
      "defaultValue": "data_engineering_practice.app_data.employees_raw",
      "label": "Table Name",
      "name": "table_name",
      "options": {
       "widgetDisplayType": "Text",
       "validationRegex": null
      },
      "parameterDataType": "String"
     },
     "widgetInfo": {
      "widgetType": "text",
      "defaultValue": "data_engineering_practice.app_data.employees_raw",
      "label": "Table Name",
      "name": "table_name",
      "options": {
       "widgetType": "text",
       "autoCreated": false,
       "validationRegex": null
      }
     }
    }
   }
  },
  "language_info": {
   "name": "python"
  }
 },
 "nbformat": 4,
 "nbformat_minor": 0
}
