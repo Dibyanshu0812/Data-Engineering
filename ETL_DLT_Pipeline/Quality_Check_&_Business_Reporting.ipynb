{
 "cells": [
  {
   "cell_type": "code",
   "execution_count": 0,
   "metadata": {
    "application/vnd.databricks.v1+cell": {
     "cellMetadata": {},
     "inputWidgets": {},
     "nuid": "db7da79e-4c5c-45d5-bff5-fa32f7c55db4",
     "showTitle": false,
     "tableResultSettingsMap": {},
     "title": ""
    }
   },
   "outputs": [],
   "source": [
    "from pyspark.sql.functions import *"
   ]
  },
  {
   "cell_type": "code",
   "execution_count": 0,
   "metadata": {
    "application/vnd.databricks.v1+cell": {
     "cellMetadata": {},
     "inputWidgets": {},
     "nuid": "1c5106f0-05b9-4cb7-b0e2-daa71b8896d1",
     "showTitle": false,
     "tableResultSettingsMap": {},
     "title": ""
    }
   },
   "outputs": [],
   "source": [
    "@dlt.table(\n",
    "    name=\"bronze.bronze_employees\"\n",
    ")\n",
    "def bronze_employees():\n",
    "    return spark.readStream.table(\"data_engineering_practice.app_data.employees_raw\");"
   ]
  },
  {
   "cell_type": "code",
   "execution_count": 0,
   "metadata": {
    "application/vnd.databricks.v1+cell": {
     "cellMetadata": {},
     "inputWidgets": {},
     "nuid": "dda2265b-0ffb-4490-a9c1-55f8f63552ed",
     "showTitle": false,
     "tableResultSettingsMap": {},
     "title": ""
    }
   },
   "outputs": [],
   "source": [
    "@dlt.table (\n",
    "     name =\"silver.silver_employees\"\n",
    ")\n",
    "@dlt.expect_or_drop(\"non_null_salary\", \"salary IS NOT NULL\")\n",
    "@dlt.expect_or_drop(\"unique_email\", \"email IS NOT NULL\")\n",
    "def silver_employees():\n",
    "    df = spark.readStream.table(\"Live.bronze_employees\")\n",
    "    df = df.dropDuplicates([\"email\"])\n",
    "    return df \n"
   ]
  },
  {
   "cell_type": "code",
   "execution_count": 0,
   "metadata": {
    "application/vnd.databricks.v1+cell": {
     "cellMetadata": {},
     "inputWidgets": {},
     "nuid": "c7fa8f30-28d7-4f57-a0ca-293947f4eb60",
     "showTitle": false,
     "tableResultSettingsMap": {},
     "title": ""
    }
   },
   "outputs": [],
   "source": [
    "@dlt.table(\n",
    "    name =\"gold.gold_employees\"\n",
    ")\n",
    "def gold_employees():\n",
    "    df = spark.readStream.table(\"Live.silver.silver_employees\")\n",
    "    df_summery = df.groupBy(\"department\").agg(\n",
    "        count(\"*\").alias(\"employee_count\"),\n",
    "        avg(\"salary\").alias(\"avg_salary\")\n",
    "    )\n",
    "    \n",
    "    return df_summery\n"
   ]
  }
 ],
 "metadata": {
  "application/vnd.databricks.v1+notebook": {
   "computePreferences": null,
   "dashboards": [],
   "environmentMetadata": {
    "base_environment": "",
    "environment_version": "2"
   },
   "inputWidgetPreferences": null,
   "language": "python",
   "notebookMetadata": {
    "pythonIndentUnit": 4
   },
   "notebookName": "Quality_Check_&_Business_Reporting",
   "widgets": {}
  },
  "language_info": {
   "name": "python"
  }
 },
 "nbformat": 4,
 "nbformat_minor": 0
}
